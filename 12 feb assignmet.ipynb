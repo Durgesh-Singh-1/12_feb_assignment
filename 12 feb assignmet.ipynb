{
 "cells": [
  {
   "cell_type": "code",
   "execution_count": 1,
   "id": "5722b600-29c1-4fef-aaea-fbbe06f963b8",
   "metadata": {},
   "outputs": [],
   "source": [
    "# 1 ans :-"
   ]
  },
  {
   "cell_type": "code",
   "execution_count": 2,
   "id": "f095161c-b760-445a-883d-f5db9925effb",
   "metadata": {},
   "outputs": [
    {
     "data": {
      "text/plain": [
       "\" An exception in python in an error that occurs durion the execution of a program that disrupts the normal flow of the program's instrustion.\""
      ]
     },
     "execution_count": 2,
     "metadata": {},
     "output_type": "execute_result"
    }
   ],
   "source": [
    "\"\"\" An exception in python in an error that occurs durion the execution of a program that disrupts the normal flow of the program's instrustion.\"\"\""
   ]
  },
  {
   "cell_type": "code",
   "execution_count": 3,
   "id": "37c4de07-d043-4cd5-b08e-5ae079cc57e6",
   "metadata": {},
   "outputs": [
    {
     "data": {
      "text/plain": [
       "'The main difference between exceptions and syntax errors is that exceptions occur during the execution of a program, while syntax errors occurs due to invalid syntax in the code'"
      ]
     },
     "execution_count": 3,
     "metadata": {},
     "output_type": "execute_result"
    }
   ],
   "source": [
    "\"\"\"The main difference between exceptions and syntax errors is that exceptions occur during the execution of a program, while syntax errors occurs due to invalid syntax in the code\"\"\""
   ]
  },
  {
   "cell_type": "code",
   "execution_count": 4,
   "id": "7c2d518d-1dc4-4268-b4f8-5f5d9e1f8ff8",
   "metadata": {},
   "outputs": [],
   "source": [
    "# 2 ans :-"
   ]
  },
  {
   "cell_type": "code",
   "execution_count": 5,
   "id": "9c6e212b-f830-4e86-8b00-f8633759f8a6",
   "metadata": {},
   "outputs": [
    {
     "data": {
      "text/plain": [
       "'when an exception is not handled in python, the program stops running and an error message is displayed'"
      ]
     },
     "execution_count": 5,
     "metadata": {},
     "output_type": "execute_result"
    }
   ],
   "source": [
    "\"\"\"when an exception is not handled in python, the program stops running and an error message is displayed\"\"\""
   ]
  },
  {
   "cell_type": "code",
   "execution_count": 6,
   "id": "cb3e00fc-1b5e-441b-ae40-b1ff9ea7401b",
   "metadata": {},
   "outputs": [],
   "source": [
    "#example :-"
   ]
  },
  {
   "cell_type": "code",
   "execution_count": 7,
   "id": "fbafde6d-f179-4d98-b51d-225b54d672f4",
   "metadata": {},
   "outputs": [
    {
     "name": "stdout",
     "output_type": "stream",
     "text": [
      "error  file not found\n"
     ]
    }
   ],
   "source": [
    "try : \n",
    "    file = open(\"non_existent_file.txt\",\"r\")\n",
    "    \n",
    "except :\n",
    "    print(\"error  file not found\")"
   ]
  },
  {
   "cell_type": "code",
   "execution_count": 8,
   "id": "23743190-401e-4787-8eb2-9d8b360421e6",
   "metadata": {},
   "outputs": [],
   "source": [
    "# 3 ans :-"
   ]
  },
  {
   "cell_type": "code",
   "execution_count": 9,
   "id": "58477b06-f986-4c4f-bd6a-a7d0dd0e4876",
   "metadata": {},
   "outputs": [
    {
     "data": {
      "text/plain": [
       "' try and except statements are used to catch and handle exception. '"
      ]
     },
     "execution_count": 9,
     "metadata": {},
     "output_type": "execute_result"
    }
   ],
   "source": [
    "\"\"\" try and except statements are used to catch and handle exception. \"\"\""
   ]
  },
  {
   "cell_type": "code",
   "execution_count": 10,
   "id": "45ac69ed-af75-4c8a-ba98-ae05700918dd",
   "metadata": {},
   "outputs": [],
   "source": [
    "# ecample :-"
   ]
  },
  {
   "cell_type": "code",
   "execution_count": 11,
   "id": "04ecaf2e-8a89-494c-b8bf-f11593ab7b63",
   "metadata": {},
   "outputs": [
    {
     "name": "stdin",
     "output_type": "stream",
     "text": [
      "Enter a  number :-  4\n"
     ]
    },
    {
     "name": "stdout",
     "output_type": "stream",
     "text": [
      "the result is  0.25\n",
      "done\n"
     ]
    }
   ],
   "source": [
    "try : \n",
    "    x =  int(input(\"Enter a  number :- \"))\n",
    "    y = 1 / x \n",
    "except :\n",
    "    print(\"error : cannot divide by zero\")\n",
    "else :\n",
    "    print(\"the result is \",y)\n",
    "finally :\n",
    "    print(\"done\")"
   ]
  },
  {
   "cell_type": "code",
   "execution_count": 12,
   "id": "edffd6d2-2fd3-4ee2-96ba-8bf4a62844ce",
   "metadata": {},
   "outputs": [],
   "source": [
    "# 4 ans :-"
   ]
  },
  {
   "cell_type": "code",
   "execution_count": 13,
   "id": "f616d400-31de-48ce-b90a-3fe3b33ccb12",
   "metadata": {},
   "outputs": [
    {
     "name": "stdin",
     "output_type": "stream",
     "text": [
      "enter a positive number  5\n"
     ]
    },
    {
     "name": "stdout",
     "output_type": "stream",
     "text": [
      "the square of  5  is  25\n",
      "done\n"
     ]
    }
   ],
   "source": [
    "try :\n",
    "    x = int(input(\"enter a positive number \"))\n",
    "    if x <= 0  :\n",
    "        raise valueError(\"Error , number must be positive\")\n",
    "    else :\n",
    "        print(\"the square of \" , x , \" is \" , x**2)\n",
    "        \n",
    "except valueError as e :\n",
    "    print(e)\n",
    "\n",
    "finally :\n",
    "    print(\"done\")"
   ]
  },
  {
   "cell_type": "code",
   "execution_count": 14,
   "id": "44f7c27f-ef62-4eed-96cf-a5cd577216a4",
   "metadata": {},
   "outputs": [],
   "source": [
    "# 5 ans :- "
   ]
  },
  {
   "cell_type": "code",
   "execution_count": 15,
   "id": "45d5a237-a784-4c17-ab1f-5a7aab1bdfb2",
   "metadata": {},
   "outputs": [
    {
     "data": {
      "text/plain": [
       "'Custom exceptions in Python are exceptions that we define ourselves to handle specific errors in our programs. We need custom exceptions to make our code more readable, maintainable, and easier to debug.'"
      ]
     },
     "execution_count": 15,
     "metadata": {},
     "output_type": "execute_result"
    }
   ],
   "source": [
    "\"\"\"Custom exceptions in Python are exceptions that we define ourselves to handle specific errors in our programs. We need custom exceptions to make our code more readable, maintainable, and easier to debug.\"\"\""
   ]
  },
  {
   "cell_type": "code",
   "execution_count": 16,
   "id": "98b70dc5-b7e0-49ab-9e81-077ef88f9880",
   "metadata": {},
   "outputs": [
    {
     "name": "stdout",
     "output_type": "stream",
     "text": [
      "Transaction successful. Amount: 100\n",
      "Error: Transaction amount cannot be negative.\n"
     ]
    }
   ],
   "source": [
    "class NegativeTransactionError(Exception):\n",
    "    pass\n",
    "\n",
    "def make_transaction(amount):\n",
    "    if amount < 0:\n",
    "        raise NegativeTransactionError(\"Error: Transaction amount cannot be negative.\")\n",
    "    else:\n",
    "        print(\"Transaction successful. Amount:\", amount)\n",
    "\n",
    "try:\n",
    "    make_transaction(100)\n",
    "    make_transaction(-50)\n",
    "except NegativeTransactionError as e:\n",
    "    print(e)\n"
   ]
  },
  {
   "cell_type": "code",
   "execution_count": 17,
   "id": "a165ce34-8fae-4827-ac43-f8938d88955a",
   "metadata": {},
   "outputs": [],
   "source": [
    "# 6 ans :"
   ]
  },
  {
   "cell_type": "code",
   "execution_count": 18,
   "id": "6bb5a577-4f71-4473-8c4e-79430b939f6d",
   "metadata": {},
   "outputs": [
    {
     "name": "stdin",
     "output_type": "stream",
     "text": [
      "Enter a positive number:  77\n"
     ]
    },
    {
     "name": "stdout",
     "output_type": "stream",
     "text": [
      "The square of 77 is 5929\n"
     ]
    }
   ],
   "source": [
    "class InvalidInputError(Exception):\n",
    "    pass\n",
    "\n",
    "try:\n",
    "    x = input(\"Enter a positive number: \")\n",
    "    if not x.isdigit() or int(x) <= 0:\n",
    "        raise InvalidInputError(\"Error: Input must be a positive integer.\")\n",
    "    else:\n",
    "        print(\"The square of\", x, \"is\", int(x)**2)\n",
    "except InvalidInputError as e:\n",
    "    print(e)\n"
   ]
  },
  {
   "cell_type": "code",
   "execution_count": null,
   "id": "b570b144-1a9b-444e-8192-6c603487b602",
   "metadata": {},
   "outputs": [],
   "source": []
  }
 ],
 "metadata": {
  "kernelspec": {
   "display_name": "Python 3 (ipykernel)",
   "language": "python",
   "name": "python3"
  },
  "language_info": {
   "codemirror_mode": {
    "name": "ipython",
    "version": 3
   },
   "file_extension": ".py",
   "mimetype": "text/x-python",
   "name": "python",
   "nbconvert_exporter": "python",
   "pygments_lexer": "ipython3",
   "version": "3.10.8"
  }
 },
 "nbformat": 4,
 "nbformat_minor": 5
}
